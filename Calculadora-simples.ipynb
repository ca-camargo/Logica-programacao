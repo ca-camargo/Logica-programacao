{
  "nbformat": 4,
  "nbformat_minor": 0,
  "metadata": {
    "colab": {
      "provenance": [],
      "toc_visible": true,
      "authorship_tag": "ABX9TyNLyAqYl1D1otRSMUyo/ybx",
      "include_colab_link": true
    },
    "kernelspec": {
      "name": "python3",
      "display_name": "Python 3"
    },
    "language_info": {
      "name": "python"
    }
  },
  "cells": [
    {
      "cell_type": "markdown",
      "metadata": {
        "id": "view-in-github",
        "colab_type": "text"
      },
      "source": [
        "<a href=\"https://colab.research.google.com/github/CamyCM/Praticas-de-aula/blob/main/Calculadora_inteligente.ipynb\" target=\"_parent\"><img src=\"https://colab.research.google.com/assets/colab-badge.svg\" alt=\"Open In Colab\"/></a>"
      ]
    },
    {
      "cell_type": "markdown",
      "source": [],
      "metadata": {
        "id": "7KIR1rdYEOje"
      }
    },
    {
      "cell_type": "markdown",
      "source": [
        "#Calculadora"
      ],
      "metadata": {
        "id": "mTOAKB3oERuo"
      }
    },
    {
      "cell_type": "code",
      "source": [
        "# Solicita os números e a operadora desejada\n",
        "numero1 = int (input (\"Digite número 1:\"))\n",
        "operacao = input(\"Digite a operacao:(+, -, *, /): \")\n",
        "numero2 = int (input (\"Digite número 2:\"))\n",
        "\n",
        "# Realiza o cálculo\n",
        "resultado = 0\n",
        "\n",
        "if operacao == \"+\":\n",
        "  resultado = numero1 + numero2\n",
        "elif operacao == \"-\":\n",
        "  resultado = numero1 - numero2\n",
        "elif operacao == \"/\":\n",
        "  resultado = numero1 / numero2\n",
        "elif operacao == \"*\":\n",
        "  resultado = numero1 * numero2\n",
        "else: resultado = \"Operação Inválida\"\n",
        "\n",
        "print (f\"{numero1} {operacao} {numero2} = {resultado}\")\n"
      ],
      "metadata": {
        "id": "4i0PHgRAEUfl"
      },
      "execution_count": null,
      "outputs": []
    }
  ]
}
