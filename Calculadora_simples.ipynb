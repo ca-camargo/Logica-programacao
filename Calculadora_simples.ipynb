{
  "nbformat": 4,
  "nbformat_minor": 0,
  "metadata": {
    "colab": {
      "provenance": [],
      "toc_visible": true,
      "authorship_tag": "ABX9TyOGApY8o+If/9a97gREz88g",
      "include_colab_link": true
    },
    "kernelspec": {
      "name": "python3",
      "display_name": "Python 3"
    },
    "language_info": {
      "name": "python"
    }
  },
  "cells": [
    {
      "cell_type": "markdown",
      "metadata": {
        "id": "view-in-github",
        "colab_type": "text"
      },
      "source": [
        "<a href=\"https://colab.research.google.com/github/ca-camargo/Logica-programacao/blob/main/Calculadora_simples.ipynb\" target=\"_parent\"><img src=\"https://colab.research.google.com/assets/colab-badge.svg\" alt=\"Open In Colab\"/></a>"
      ]
    },
    {
      "cell_type": "markdown",
      "source": [],
      "metadata": {
        "id": "7KIR1rdYEOje"
      }
    },
    {
      "cell_type": "markdown",
      "source": [
        "#Calculadora Simples"
      ],
      "metadata": {
        "id": "mTOAKB3oERuo"
      }
    },
    {
      "cell_type": "code",
      "source": [
        "print (\"==Calculadora Simples==\")\n",
        "\n",
        "# Solicita os números e a operadora desejada\n",
        "numero1 = int (input (\"Digite número 1:\"))\n",
        "operacao = input(\"Digite a operacao:(+, -, *, /): \")\n",
        "numero2 = int (input (\"Digite número 2:\"))\n",
        "\n",
        "# Realiza o cálculo\n",
        "resultado = 0\n",
        "\n",
        "if operacao == \"+\":\n",
        "  resultado = numero1 + numero2\n",
        "elif operacao == \"-\":\n",
        "  resultado = numero1 - numero2\n",
        "elif operacao == \"/\":\n",
        "  resultado = numero1 / numero2\n",
        "elif operacao == \"*\":\n",
        "  resultado = numero1 * numero2\n",
        "else: resultado = \"Operação Inválida\"\n",
        "\n",
        "print (f\"{numero1} {operacao} {numero2} = {resultado}\")\n"
      ],
      "metadata": {
        "id": "4i0PHgRAEUfl",
        "colab": {
          "base_uri": "https://localhost:8080/"
        },
        "outputId": "7232eee9-8295-4e13-8b3c-15fc9bfd46e2"
      },
      "execution_count": null,
      "outputs": [
        {
          "output_type": "stream",
          "name": "stdout",
          "text": [
            "==Calculadora Simples==\n",
            "Digite número 1:25\n",
            "Digite a operacao:(+, -, *, /): /\n",
            "Digite número 2:10\n",
            "25 / 10 = 2.5\n"
          ]
        }
      ]
    }
  ]
}